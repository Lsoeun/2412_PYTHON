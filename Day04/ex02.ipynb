{
 "cells": [
  {
   "cell_type": "markdown",
   "metadata": {},
   "source": [
    "# 리스트 관련 함수\n",
    "- 리스트 마지막에 요소 추가하기 -> append\n",
    "- 리스트 정렬 -> sort\n",
    "- 리스트 뒤집기 -> reverse\n",
    "- 인덱스 반환 -> index\n",
    "- 리스트 중간에 요소 삽입 -> insert\n",
    "- 리스트에 특정 값을 가진 요소 제거 -> remove\n",
    "- 리스트 요소 끄집어 내기(특정 위치에 있는 요소 삭제제) -> pop\n",
    "- 리스트에 포함된 요소 x의 개수 세기 -> count\n",
    "- 리스트 확장 -> extend\n",
    "- 리스트 길이 확인 -> len"
   ]
  }
 ],
 "metadata": {
  "language_info": {
   "name": "python"
  }
 },
 "nbformat": 4,
 "nbformat_minor": 2
}
