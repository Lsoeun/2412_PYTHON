{
 "cells": [
  {
   "cell_type": "code",
   "execution_count": null,
   "metadata": {},
   "outputs": [],
   "source": [
    "grade = {\n",
    "  \"kelly\" : \"B\",\n",
    "  \"json\" : \"A\",\n",
    "  \"ian\" : \"C\",\n",
    "  \"elly\" : \"D\"\n",
    "}\n",
    "\n",
    "# 오름차순 정렬\n",
    "print(sorted(grade.items()))\n",
    "\n",
    "# 내림차순 정렬\n",
    "print(sorted(grade.items(), reverse=True))"
   ]
  }
 ],
 "metadata": {
  "kernelspec": {
   "display_name": "Python 3",
   "language": "python",
   "name": "python3"
  },
  "language_info": {
   "name": "python",
   "version": "3.13.0"
  }
 },
 "nbformat": 4,
 "nbformat_minor": 2
}
