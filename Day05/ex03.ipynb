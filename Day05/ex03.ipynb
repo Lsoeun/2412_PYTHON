{
 "cells": [
  {
   "cell_type": "markdown",
   "metadata": {},
   "source": [
    "# 딕셔너리 관련 함수\n",
    "- Key 리스트 만들기 -> keys()\n",
    "- Value 리스트 만들기 -> values()\n",
    "- Key, Value 쌍 얻기 -> items()\n",
    "- Key: Value 쌍 모두 지우기 -> clear()\n",
    "- Key로 Value 얻기 -> get()\n",
    "- 해당 Key가 딕셔너리 안에 있는지 조사하기 -> in()\n",
    "- key값에 따라 정렬하기 -> sorted()"
   ]
  },
  {
   "cell_type": "code",
   "execution_count": 7,
   "metadata": {},
   "outputs": [
    {
     "name": "stdout",
     "output_type": "stream",
     "text": [
      "name\n",
      "phone\n",
      "birth\n",
      "dict_keys(['name', 'phone', 'birth'])\n",
      "dict_keys(['축구', '피겨', '수영'])\n",
      "축구\n",
      "피겨\n",
      "수영\n"
     ]
    }
   ],
   "source": [
    "# Key 리스트 만들기 -> keys()\n",
    "# 딕셔너리의 모든 key 값들을 모아 리스트와 유사한 형태로 반환\n",
    "# 딕셔너리.keys()\n",
    "\n",
    "a = {'name': 'pey', 'phone': '010-9999-1234', 'birth': '1118'}\n",
    "\n",
    "# keys() 메서드로 딕셔너리의 키들만 출력\n",
    "print(a.keys())\n",
    "\n",
    "# for문을 활용해 딕셔너리의 key들을 반복문으로 하나씩 출력\n",
    "for k in a.keys():\n",
    "    print(k)\n",
    "\n",
    "sport = {\n",
    "  '축구' : '손흥민',\n",
    "  '피겨' : '김연아',\n",
    "  '수영' : '박태환'\n",
    "}\n",
    "print(sport.keys())\n",
    "\n",
    "for i in sport.keys():\n",
    "  print(i) \n"
   ]
  },
  {
   "cell_type": "code",
   "execution_count": 8,
   "metadata": {},
   "outputs": [
    {
     "name": "stdout",
     "output_type": "stream",
     "text": [
      "['name', 'phone', 'birth']\n"
     ]
    }
   ],
   "source": [
    "a = {'name': 'pey', 'phone': '010-9999-1234', 'birth': '1118'}\n",
    "\n",
    "# keys() 메서드로 딕셔너리의 키들을 list() 메서드를 활용해 리스트로 변환하여 출력\n",
    "print(list(a.keys()))"
   ]
  },
  {
   "cell_type": "code",
   "execution_count": 11,
   "metadata": {},
   "outputs": [
    {
     "name": "stdout",
     "output_type": "stream",
     "text": [
      "dict_values(['pey', '010-9999-1234', '1118'])\n",
      "pey\n",
      "010-9999-1234\n",
      "1118\n",
      "['pey', '010-9999-1234', '1118']\n"
     ]
    }
   ],
   "source": [
    "# Value 리스트 만들기 -> values()\n",
    "# 딕셔너리의 value값만 모아서 리스트와 유사한 형태로 반환\n",
    "# 딕셔너리.values()\n",
    "a = {'name': 'pey', 'phone': '010-9999-1234', 'birth': '1118'}\n",
    "\n",
    "print(a.values())\n",
    "\n",
    "for i in a.values():\n",
    "  print(i)\n",
    "  \n",
    "print(list(a.values()))"
   ]
  },
  {
   "cell_type": "code",
   "execution_count": null,
   "metadata": {},
   "outputs": [],
   "source": [
    "# Key, Value 쌍 얻기 -> items()\n",
    "# "
   ]
  },
  {
   "cell_type": "code",
   "execution_count": null,
   "metadata": {},
   "outputs": [],
   "source": [
    "# Key: Value 쌍 모두 지우기 -> clear()"
   ]
  },
  {
   "cell_type": "code",
   "execution_count": null,
   "metadata": {},
   "outputs": [],
   "source": [
    "# Key로 Value 얻기 -> get()"
   ]
  },
  {
   "cell_type": "code",
   "execution_count": null,
   "metadata": {},
   "outputs": [],
   "source": [
    "# 해당 Key가 딕셔너리 안에 있는지 조사하기 -> in()"
   ]
  },
  {
   "cell_type": "code",
   "execution_count": 3,
   "metadata": {},
   "outputs": [
    {
     "name": "stdout",
     "output_type": "stream",
     "text": [
      "[('ian', 'C'), ('json', 'A'), ('kelly', 'B'), ('selly', 'D')]\n",
      "[('selly', 'D'), ('kelly', 'B'), ('json', 'A'), ('ian', 'C')]\n"
     ]
    }
   ],
   "source": [
    "# key값에 따라 정렬하기 -> sorted()\n",
    "\n",
    "grade = {\n",
    "  \"kelly\" : \"B\",\n",
    "  \"json\" : \"A\",\n",
    "  \"ian\" : \"C\",\n",
    "  \"selly\" : \"D\"\n",
    "}\n",
    "\n",
    "# 오름차순 정렬\n",
    "print(sorted(grade.items()))\n",
    "\n",
    "# 내림차순 정렬\n",
    "print(sorted(grade.items(), reverse=True))"
   ]
  }
 ],
 "metadata": {
  "kernelspec": {
   "display_name": "Python 3",
   "language": "python",
   "name": "python3"
  },
  "language_info": {
   "codemirror_mode": {
    "name": "ipython",
    "version": 3
   },
   "file_extension": ".py",
   "mimetype": "text/x-python",
   "name": "python",
   "nbconvert_exporter": "python",
   "pygments_lexer": "ipython3",
   "version": "3.13.0"
  }
 },
 "nbformat": 4,
 "nbformat_minor": 2
}
