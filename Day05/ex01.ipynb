{
 "cells": [
  {
   "cell_type": "code",
   "execution_count": 1,
   "metadata": {},
   "outputs": [
    {
     "name": "stdout",
     "output_type": "stream",
     "text": [
      "교환 전 : x = 10 , y =  20\n",
      "교환 후 : x = 20 , y =  10\n"
     ]
    }
   ],
   "source": [
    "x = 10\n",
    "y = 20\n",
    "\n",
    "# 교환 전 출력\n",
    "print(\"교환 전 : x =\", x, \", y = \", y)\n",
    "\n",
    "# = 연산자를 활용한 데이터 교환\n",
    "(x, y) = (y, x)\n",
    "\n",
    "# 교환 후 출력\n",
    "print(\"교환 후 : x =\", x, \", y = \", y)"
   ]
  },
  {
   "cell_type": "code",
   "execution_count": 3,
   "metadata": {},
   "outputs": [
    {
     "name": "stdout",
     "output_type": "stream",
     "text": [
      "[('elly', 'D'), ('ian', 'C'), ('json', 'A'), ('kelly', 'B')]\n",
      "[('kelly', 'B'), ('json', 'A'), ('ian', 'C'), ('elly', 'D')]\n"
     ]
    }
   ],
   "source": [
    "grade = {\n",
    "  \"kelly\" : \"B\",\n",
    "  \"json\" : \"A\",\n",
    "  \"ian\" : \"C\",\n",
    "  \"elly\" : \"D\"\n",
    "}\n",
    "\n",
    "# 오름차순 정렬\n",
    "print(sorted(grade.items()))\n",
    "\n",
    "# 내림차순 정렬\n",
    "print(sorted(grade.items(), reverse=True))"
   ]
  }
 ],
 "metadata": {
  "kernelspec": {
   "display_name": "Python 3",
   "language": "python",
   "name": "python3"
  },
  "language_info": {
   "codemirror_mode": {
    "name": "ipython",
    "version": 3
   },
   "file_extension": ".py",
   "mimetype": "text/x-python",
   "name": "python",
   "nbconvert_exporter": "python",
   "pygments_lexer": "ipython3",
   "version": "3.13.0"
  }
 },
 "nbformat": 4,
 "nbformat_minor": 2
}
