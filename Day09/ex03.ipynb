{
 "cells": [
  {
   "cell_type": "markdown",
   "metadata": {},
   "source": [
    "# 생성자와 소멸자\n",
    "- 객체는 생성 과정에서 초기값을 설정하여 고유한 데이터를 부여할 수 있음\n",
    "- 이 과정을 담당하는 것이 바로 생성자\n",
    "\n",
    "# 생성자란?\n",
    "- 객체를 생성할 때 자동으로 호출되는 메서드\n",
    "- 생성자를 선언할 때와 호출할 때는 서로 다른 이름 사용\n",
    "- 생성자 선언: __init__() 메서드를 사용하여 선언\n",
    "- 생성자 호출: 클래스 이름을 사용하여 호출\n",
    "- 생성자는 반드시 필요한 것은 아니며 사용하지 않을 경우 생략도 가능\n",
    "- 하지만 직접 구현하지 않는다고 해서 그 클래스에 생성자가 없는 것은 아님!\n",
    "- 모든 클래스에는 기본 생성자가 존재(별도의 코드 없이도 자동으로 만들어지는 생성자)\n",
    "- 기본 생성자는 객체를 생성할 때 아무런 초깃값도 설정하지 않음\n",
    "- 객체가 생성될 때 필요한 초깃값을 설정해야 할 경우에는 직접 생성자를 정의해야 함"
   ]
  },
  {
   "cell_type": "code",
   "execution_count": null,
   "metadata": {},
   "outputs": [],
   "source": [
    "# 생성자를 따로 구현하지 않아도 기본 생성자가 존재\n",
    "# __init__()메서드 명시적으로 구현하지 않았음\n",
    "class Person:\n",
    "  def introduce(self, name):\n",
    "    self.name = name \n",
    "    print(\"안녕하세요 저는\", name, \"입니다.\")\n",
    "\n",
    "minsu = Person() # 기본 생성자 호출하여 객체 생성\n",
    "minsu.introduce(\"민수\")\n",
    "print(minsu.name)"
   ]
  },
  {
   "cell_type": "code",
   "execution_count": 4,
   "metadata": {},
   "outputs": [
    {
     "name": "stdout",
     "output_type": "stream",
     "text": [
      "안녕하세요 저는 민수 입니다.\n",
      "안녕하세요 저는 영희 입니다.\n",
      "안녕하세요 저는 미나 입니다.\n"
     ]
    }
   ],
   "source": [
    "class Person:\n",
    "  def __init__(self, name): # 생성자. 객체 생성 시 자동으로 호출\n",
    "    self.name = name # 객체 생성 시 직접 이름을 지정할 수 있도록 함함\n",
    "  \n",
    "  def introduce(self): \n",
    "    print(\"안녕하세요 저는\", self.name, \"입니다.\")\n",
    "\n",
    "minsu = Person(\"민수\") # 객체 생성과 동시에 name값 부여\n",
    "minsu.introduce() # 객체가 가진 name 변수 출력\n",
    "\n",
    "younghee = Person(\"영희\")\n",
    "younghee.introduce()\n",
    "\n",
    "mina = Person(\"미나\")\n",
    "mina.introduce()"
   ]
  },
  {
   "cell_type": "code",
   "execution_count": 3,
   "metadata": {},
   "outputs": [
    {
     "name": "stdout",
     "output_type": "stream",
     "text": [
      "야옹야옹\n",
      "멍멍멍멍\n"
     ]
    }
   ],
   "source": [
    "class Animal:\n",
    "  def __init__(self, sound): # 생성자. 객체 생성 시 자동으로 호출\n",
    "    self.sound = sound # 객체 생성 시 sound 속성에 값을 할당\n",
    "    \n",
    "  def cry(self):\n",
    "    print(self.sound * 2)\n",
    "    \n",
    "cat = Animal(\"야옹\")\n",
    "cat.cry()\n",
    "\n",
    "dog = Animal(\"멍멍\")\n",
    "dog.cry()\n",
    "\n",
    "# 생성자를 이용하면 객체 생성과 동시에 각 객체의 속성 값을 손쉽게 지정 가능\n",
    "# 생성된 객체마다 다른 값을 부여하여 코드의 유연성 향상"
   ]
  }
 ],
 "metadata": {
  "kernelspec": {
   "display_name": "Python 3",
   "language": "python",
   "name": "python3"
  },
  "language_info": {
   "codemirror_mode": {
    "name": "ipython",
    "version": 3
   },
   "file_extension": ".py",
   "mimetype": "text/x-python",
   "name": "python",
   "nbconvert_exporter": "python",
   "pygments_lexer": "ipython3",
   "version": "3.13.0"
  }
 },
 "nbformat": 4,
 "nbformat_minor": 2
}
