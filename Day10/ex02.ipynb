{
 "cells": [
  {
   "cell_type": "markdown",
   "metadata": {},
   "source": [
    "# 클래스 변수란?\n",
    "- 클래스 변수는 파이썬에서 클래스에 속한 모든 객체들이 공유하는 변수\n",
    "- 즉 같은 클래스로 생성된 모든 객체가 공유할 수 있는 변수\n",
    "- 클래스 변수의 값을 변경하면 해당 클래스에 속한 모든 객체의 데이터가 자동으로 변경"
   ]
  },
  {
   "cell_type": "markdown",
   "metadata": {},
   "source": [
    "# 클래스 변수 기본 형식\n",
    "class 클래스명:\n",
    "  클래스 변수 명 = 값\n",
    "\n",
    "  def __init__(self): # 생성자 \n",
    "  ..."
   ]
  },
  {
   "cell_type": "code",
   "execution_count": 3,
   "metadata": {},
   "outputs": [
    {
     "name": "stdout",
     "output_type": "stream",
     "text": [
      "안녕하세요, 제 이름은 kelly 입니다.\n",
      "저는 1 반 입니다.\n",
      "1교시 수업은 Art 입니다.\n",
      "\n",
      "안녕하세요, 제 이름은 jason 입니다.\n",
      "저는 1 반 입니다.\n",
      "1교시 수업은 Art 입니다.\n",
      "\n",
      "안녕하세요, 제 이름은 tom 입니다.\n",
      "저는 1 반 입니다.\n",
      "1교시 수업은 Art 입니다.\n",
      "\n",
      "저는 1 반 kelly 입니다.\n",
      "1교시 수업은 변경되어어 Korean 입니다.\n",
      "\n",
      "저는 1 반 jason 입니다.\n",
      "1교시 수업은 변경되어어 Korean 입니다.\n",
      "\n",
      "저는 1 반 tom 입니다.\n",
      "1교시 수업은 그대로 Art 입니다.\n",
      "\n"
     ]
    }
   ],
   "source": [
    "# 클래스 변수를 사용하지 않고 객체 변수를 사용한 예시\n",
    "# 데이터를 수정할 때 모든 객체의 데이터를 일일이 수정해야 하는 번거로움이 발생\n",
    " \n",
    "class Student:\n",
    "  def __init__(self, name, ban, subject):\n",
    "    self.name = name\n",
    "    self.ban = ban\n",
    "    self.subject = subject\n",
    "    \n",
    "  def introduce(self):\n",
    "    print(\"안녕하세요, 제 이름은\", self.name, \"입니다.\")\n",
    "    print(\"저는\", self.ban, \"반 입니다.\")\n",
    "    print(\"1교시 수업은\", self.subject, \"입니다.\")\n",
    "    print()\n",
    "  \n",
    "  def subject_info(self):\n",
    "    print(\"저는\", self.ban,\"반\", self.name, \"입니다.\")\n",
    "    if(self.subject == \"Art\"):\n",
    "      print(\"1교시 수업은 그대로\", self.subject, \"입니다.\")\n",
    "      print()\n",
    "    else:\n",
    "      print(\"1교시 수업은 변경되어어\", self.subject, \"입니다.\")\n",
    "      print()\n",
    "      \n",
    "# 같은 1반 학생 3명 객체 생성\n",
    "kelly = Student(\"kelly\", 1, \"Art\")\n",
    "jason = Student(\"jason\", 1, \"Art\")\n",
    "tom = Student(\"tom\", 1, \"Art\")\n",
    "\n",
    "# 자기 소개와 1교시 과목 안내\n",
    "kelly.introduce()\n",
    "jason.introduce()\n",
    "tom.introduce()\n",
    "\n",
    "# kelly와 json의 1교시 과목 변경\n",
    "kelly.subject = \"Korean\"\n",
    "jason.subject = \"Korean\"\n",
    "\n",
    "# 세 학생의 1교시 과목 안내\n",
    "kelly.subject_info()\n",
    "jason.subject_info()\n",
    "tom.subject_info()"
   ]
  },
  {
   "cell_type": "code",
   "execution_count": 5,
   "metadata": {},
   "outputs": [
    {
     "name": "stdout",
     "output_type": "stream",
     "text": [
      "안녕하세요, 제 이름은 kelly 입니다.\n",
      "저는 1 반 입니다.\n",
      "1교시 수업은 Art 입니다.\n",
      "\n",
      "안녕하세요, 제 이름은 jason 입니다.\n",
      "저는 1 반 입니다.\n",
      "1교시 수업은 Art 입니다.\n",
      "\n",
      "안녕하세요, 제 이름은 tom 입니다.\n",
      "저는 1 반 입니다.\n",
      "1교시 수업은 Art 입니다.\n",
      "\n",
      "저는 1 반 kelly 입니다.\n",
      "1교시 수업은 변경되어어 Korean 입니다.\n",
      "\n",
      "저는 1 반 jason 입니다.\n",
      "1교시 수업은 변경되어어 Korean 입니다.\n",
      "\n",
      "저는 1 반 tom 입니다.\n",
      "1교시 수업은 변경되어어 Korean 입니다.\n",
      "\n"
     ]
    }
   ],
   "source": [
    "# 클래스 변수 추가\n",
    "class Student:\n",
    "  \n",
    "  subject = \"Art\" # 클래스 변수 선언\n",
    "  \n",
    "  def __init__(self, name, ban):\n",
    "    self.name = name\n",
    "    self.ban = ban\n",
    "    \n",
    "  def introduce(self):\n",
    "    print(\"안녕하세요, 제 이름은\", self.name, \"입니다.\")\n",
    "    print(\"저는\", self.ban, \"반 입니다.\")\n",
    "    print(\"1교시 수업은\", self.subject, \"입니다.\")\n",
    "    print()\n",
    "  \n",
    "  def subject_info(self):\n",
    "    print(\"저는\", self.ban,\"반\", self.name, \"입니다.\")\n",
    "    if(self.subject == \"Art\"):\n",
    "      print(\"1교시 수업은 그대로\", self.subject, \"입니다.\")\n",
    "      print()\n",
    "    else:\n",
    "      print(\"1교시 수업은 변경되어어\", self.subject, \"입니다.\")\n",
    "      print()\n",
    "      \n",
    "# 같은 1반 학생 3명 객체 생성\n",
    "kelly = Student(\"kelly\", 1)\n",
    "jason = Student(\"jason\", 1)\n",
    "tom = Student(\"tom\", 1)\n",
    "\n",
    "# 자기 소개와 1교시 과목 안내\n",
    "kelly.introduce()\n",
    "jason.introduce()\n",
    "tom.introduce()\n",
    "\n",
    "# 모든 객체의 1교시 과목 변경\n",
    "Student.subject = \"Korean\" # 클래스 변수의 값 변경\n",
    "\n",
    "# 세 학생의 1교시 과목 안내\n",
    "kelly.subject_info()\n",
    "jason.subject_info()\n",
    "tom.subject_info()\n",
    "\n",
    "# 클래스 변수를 사용할때는 클래스명.변수명으로 접근\n",
    "# 클래스 변수를 사용하여 모든 객체의 데이터를 손쉽게 변경, 코드의 간결성도 크게 향상\n",
    "# 여러 객체가 공통적으로 사용하는 데이터를 관리하는 데 매우 유용"
   ]
  }
 ],
 "metadata": {
  "kernelspec": {
   "display_name": "Python 3",
   "language": "python",
   "name": "python3"
  },
  "language_info": {
   "codemirror_mode": {
    "name": "ipython",
    "version": 3
   },
   "file_extension": ".py",
   "mimetype": "text/x-python",
   "name": "python",
   "nbconvert_exporter": "python",
   "pygments_lexer": "ipython3",
   "version": "3.13.0"
  }
 },
 "nbformat": 4,
 "nbformat_minor": 2
}
